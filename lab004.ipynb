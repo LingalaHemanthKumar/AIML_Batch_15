{
  "nbformat": 4,
  "nbformat_minor": 0,
  "metadata": {
    "colab": {
      "provenance": [],
      "authorship_tag": "ABX9TyMjjH31JWgh/wjacMsEkrFl",
      "include_colab_link": true
    },
    "kernelspec": {
      "name": "python3",
      "display_name": "Python 3"
    },
    "language_info": {
      "name": "python"
    }
  },
  "cells": [
    {
      "cell_type": "markdown",
      "metadata": {
        "id": "view-in-github",
        "colab_type": "text"
      },
      "source": [
        "<a href=\"https://colab.research.google.com/github/LingalaHemanthKumar/AIML_Batch_15/blob/main/lab004.ipynb\" target=\"_parent\"><img src=\"https://colab.research.google.com/assets/colab-badge.svg\" alt=\"Open In Colab\"/></a>"
      ]
    },
    {
      "cell_type": "code",
      "execution_count": 1,
      "metadata": {
        "id": "ucaU8BMQOQYV"
      },
      "outputs": [],
      "source": [
        "import numpy as np\n",
        "import pandas as pd\n",
        "import matplotlib.pyplot as plt\n",
        "import seaborn as sns\n",
        "%matplotlib inline"
      ]
    },
    {
      "cell_type": "code",
      "source": [
        "df = pd.read_csv(\"USA_Housing.csv\")\n",
        "df.head()"
      ],
      "metadata": {
        "id": "zeACGJF9Oavh"
      },
      "execution_count": null,
      "outputs": []
    },
    {
      "cell_type": "code",
      "source": [
        "df.info(verbose=True)"
      ],
      "metadata": {
        "id": "_wfLAtpeOas9"
      },
      "execution_count": null,
      "outputs": []
    },
    {
      "cell_type": "code",
      "source": [
        "df.describe(percentiles=[0.1,0.25,0.5,0.75,0.9])\n"
      ],
      "metadata": {
        "id": "XhDUCi19Oqdq"
      },
      "execution_count": null,
      "outputs": []
    },
    {
      "cell_type": "code",
      "source": [
        "df.columns\n"
      ],
      "metadata": {
        "id": "xSJ-vyc1OajT"
      },
      "execution_count": null,
      "outputs": []
    },
    {
      "cell_type": "code",
      "source": [
        "sns.pairplot(df)\n"
      ],
      "metadata": {
        "id": "kIVrwRktOaeU"
      },
      "execution_count": null,
      "outputs": []
    },
    {
      "cell_type": "code",
      "source": [
        "df['Price'].plot.hist(bins=25,figsize=(8,4))\n"
      ],
      "metadata": {
        "id": "S7TA7_JfOabs"
      },
      "execution_count": null,
      "outputs": []
    },
    {
      "cell_type": "code",
      "source": [
        "df['Price'].plot.density()\n"
      ],
      "metadata": {
        "id": "GcHPTU2DOaZF"
      },
      "execution_count": null,
      "outputs": []
    },
    {
      "cell_type": "code",
      "source": [
        "df.corr()\n"
      ],
      "metadata": {
        "id": "rox-hnX0OaWT"
      },
      "execution_count": null,
      "outputs": []
    },
    {
      "cell_type": "code",
      "source": [
        "plt.figure(figsize=(10,7))\n",
        "sns.heatmap(df.corr(),annot=True,linewidths=2)"
      ],
      "metadata": {
        "id": "ldz8CBIeOaTs"
      },
      "execution_count": null,
      "outputs": []
    },
    {
      "cell_type": "code",
      "source": [
        "l_column = list(df.columns) # Making a list out of column names\n",
        "len_feature = len(l_column) # Length of column vector list\n",
        "l_column\n"
      ],
      "metadata": {
        "id": "qvxqfCg7O_-m"
      },
      "execution_count": null,
      "outputs": []
    },
    {
      "cell_type": "code",
      "source": [
        "X = df[l_column[0:len_feature-2]]\n",
        "y = df[l_column[len_feature-2]]"
      ],
      "metadata": {
        "id": "hZLQvA4zO_3H"
      },
      "execution_count": null,
      "outputs": []
    },
    {
      "cell_type": "code",
      "source": [
        "print(\"Feature set size:\",X.shape)\n",
        "print(\"Variable set size:\",y.shape)"
      ],
      "metadata": {
        "id": "KF1kGpeYO_vi"
      },
      "execution_count": null,
      "outputs": []
    },
    {
      "cell_type": "code",
      "source": [
        "X.head()\n"
      ],
      "metadata": {
        "id": "9F85juf1OaD2"
      },
      "execution_count": null,
      "outputs": []
    },
    {
      "cell_type": "code",
      "source": [
        "from sklearn.model_selection import train_test_split\n"
      ],
      "metadata": {
        "id": "hEFTcRKvPKfJ"
      },
      "execution_count": null,
      "outputs": []
    },
    {
      "cell_type": "code",
      "source": [
        "\n",
        "X_train, X_test, y_train, y_test = train_test_split(X, y,\n",
        "                            test_size=0.3, random_state=123)"
      ],
      "metadata": {
        "id": "WHfhq9FoPKb4"
      },
      "execution_count": null,
      "outputs": []
    },
    {
      "cell_type": "code",
      "source": [
        "print(\"Training feature set size:\",X_train.shape)\n",
        "print(\"Test feature set size:\",X_test.shape)\n",
        "print(\"Training variable set size:\",y_train.shape)\n",
        "print(\"Test variable set size:\",y_test.shape)"
      ],
      "metadata": {
        "id": "LORInYMWPKJi"
      },
      "execution_count": null,
      "outputs": []
    },
    {
      "cell_type": "code",
      "source": [
        "from sklearn.linear_model import LinearRegression\n",
        "from sklearn import metrics"
      ],
      "metadata": {
        "id": "zDJKgxsbPKGI"
      },
      "execution_count": null,
      "outputs": []
    },
    {
      "cell_type": "code",
      "source": [
        "lm = LinearRegression() # Creating a Linear Regression object 'lm'\n"
      ],
      "metadata": {
        "id": "mG7y_APjPKDb"
      },
      "execution_count": null,
      "outputs": []
    },
    {
      "cell_type": "code",
      "source": [
        "lm.fit(X_train,y_train) # Fit the linear model on to the 'lm' object itself i.e. no need to set this to another variable\n",
        "\n"
      ],
      "metadata": {
        "id": "6NMF3bWAPKA0"
      },
      "execution_count": null,
      "outputs": []
    },
    {
      "cell_type": "code",
      "source": [
        "print(\"The intercept term of the linear model:\", lm.intercept_)\n",
        "\n",
        "\n"
      ],
      "metadata": {
        "id": "vgHzLdvYPmGC"
      },
      "execution_count": null,
      "outputs": []
    },
    {
      "cell_type": "code",
      "source": [
        "print(\"The coefficients of the linear model:\", lm.coef_)\n"
      ],
      "metadata": {
        "id": "0ct-f_qNPmCl"
      },
      "execution_count": null,
      "outputs": []
    },
    {
      "cell_type": "code",
      "source": [
        "#idict = {'Coefficients':lm.intercept_}\n",
        "#idf = pd.DataFrame(data=idict,index=['Intercept'])\n",
        "cdf = pd.DataFrame(data=lm.coef_, index=X_train.columns, columns=[\"Coefficients\"])\n",
        "#cdf=pd.concat([idf,cdf], axis=0)\n",
        "cdf"
      ],
      "metadata": {
        "id": "QYi3zwi0Pl-4"
      },
      "execution_count": null,
      "outputs": []
    },
    {
      "cell_type": "code",
      "source": [],
      "metadata": {
        "id": "7cMLQTAfP2Lo"
      },
      "execution_count": null,
      "outputs": []
    },
    {
      "cell_type": "code",
      "source": [],
      "metadata": {
        "id": "Ado_IG8IP2IK"
      },
      "execution_count": null,
      "outputs": []
    },
    {
      "cell_type": "code",
      "source": [],
      "metadata": {
        "id": "qP0suwFnP2Fw"
      },
      "execution_count": null,
      "outputs": []
    },
    {
      "cell_type": "code",
      "source": [],
      "metadata": {
        "id": "b0ppXVKzP2C5"
      },
      "execution_count": null,
      "outputs": []
    },
    {
      "cell_type": "code",
      "source": [],
      "metadata": {
        "id": "fZHwZQ9kP1_6"
      },
      "execution_count": null,
      "outputs": []
    },
    {
      "cell_type": "code",
      "source": [],
      "metadata": {
        "id": "9vLBAmUIP19D"
      },
      "execution_count": null,
      "outputs": []
    }
  ]
}